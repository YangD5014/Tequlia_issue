{
 "cells": [
  {
   "attachments": {},
   "cell_type": "markdown",
   "metadata": {},
   "source": [
    "If I use Tequila:"
   ]
  },
  {
   "cell_type": "code",
   "execution_count": 2,
   "metadata": {},
   "outputs": [
    {
     "name": "stdout",
     "output_type": "stream",
     "text": [
      "converged SCF energy = -0.910873554594386\n"
     ]
    },
    {
     "data": {
      "text/plain": [
       "-0.890584781399921"
      ]
     },
     "execution_count": 2,
     "metadata": {},
     "output_type": "execute_result"
    }
   ],
   "source": [
    "import tequila as tq\n",
    "from tequila.quantumchemistry import optimize_orbitals\n",
    "te_circuit = tq.import_open_qasm_from_file(filename='./H2.qasm')\n",
    "mol = tq.Molecule(geometry=\"H 0.0 0.0 0.0\\nH 0.0 0.0 1.5\", basis_set=\"sto-3g\")\n",
    "H = mol.make_hamiltonian()\n",
    "#wfn = tq.simulate(te_circuit, backend='qiskit')\n",
    "E = tq.ExpectationValue(H=H, U=te_circuit)\n",
    "result = tq.simulate(E)\n",
    "result"
   ]
  },
  {
   "cell_type": "code",
   "execution_count": 7,
   "metadata": {},
   "outputs": [
    {
     "data": {
      "text/plain": [
       "-0.9981493534714043"
      ]
     },
     "execution_count": 7,
     "metadata": {},
     "output_type": "execute_result"
    }
   ],
   "source": [
    "from qiskit.qasm2 import load\n",
    "from qiskit.primitives import Estimator\n",
    "from qiskit_nature import settings\n",
    "from qiskit_nature.second_q.drivers import PySCFDriver\n",
    "from qiskit_nature.second_q.mappers import JordanWignerMapper\n",
    "from qiskit_nature.second_q.formats.molecule_info import MoleculeInfo\n",
    "settings.use_pauli_sum_op = False\n",
    "\n",
    "dist = 1.5# A\n",
    "molecule = MoleculeInfo(\n",
    "    #[\"H\", \"H\",\"H\",\"H\"], [(0.0, 0.0, 0.0), (0.0, 0.0, dist), (0.0, 0.0,dist*2), (0.0, 0.0, dist*3)],\n",
    "    [\"H\", \"H\"], [(0.0, 0.0, 0.0), (0.0, 0.0, dist),],\n",
    "    #['Be','H','H'],[(0.0,0.0,0.0),(0.0,0.0,dist),(0.0,0.0,-dist)],\n",
    "    multiplicity=1,  # = 2*spin + 1\n",
    "    charge=0,\n",
    ")\n",
    "driver = PySCFDriver().from_molecule(molecule)\n",
    "problem = driver.run()\n",
    "\n",
    "problem_qcschema = driver.to_qcschema() #OO pyscf\n",
    "mapper = JordanWignerMapper() \n",
    "hamiltonian = mapper.map(problem.second_q_ops()[0])\n",
    "\n",
    "circuit = load(filename='./H2.qasm')\n",
    "estimator = Estimator()\n",
    "job = estimator.run(circuits=circuit,observables=hamiltonian)\n",
    "result = job.result()\n",
    "result.values[0] + problem.nuclear_repulsion_energy"
   ]
  },
  {
   "cell_type": "code",
   "execution_count": null,
   "metadata": {},
   "outputs": [],
   "source": []
  }
 ],
 "metadata": {
  "kernelspec": {
   "display_name": "QISKIT_WSL",
   "language": "python",
   "name": "python3"
  },
  "language_info": {
   "codemirror_mode": {
    "name": "ipython",
    "version": 3
   },
   "file_extension": ".py",
   "mimetype": "text/x-python",
   "name": "python",
   "nbconvert_exporter": "python",
   "pygments_lexer": "ipython3",
   "version": "3.9.16"
  },
  "orig_nbformat": 4
 },
 "nbformat": 4,
 "nbformat_minor": 2
}
